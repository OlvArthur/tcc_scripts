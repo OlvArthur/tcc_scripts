{
 "metadata": {
  "language_info": {
   "codemirror_mode": {
    "name": "ipython",
    "version": 3
   },
   "file_extension": ".py",
   "mimetype": "text/x-python",
   "name": "python",
   "nbconvert_exporter": "python",
   "pygments_lexer": "ipython3",
   "version": "3.6.9-final"
  },
  "orig_nbformat": 2,
  "kernelspec": {
   "name": "python36964bit2816f1ca16c74fefba0c069c227312dd",
   "display_name": "Python 3.6.9 64-bit",
   "language": "python"
  }
 },
 "nbformat": 4,
 "nbformat_minor": 2,
 "cells": [
  {
   "cell_type": "code",
   "execution_count": null,
   "metadata": {},
   "outputs": [],
   "source": [
    "# Let’s load the libraries\n",
    "\n",
    "import re    # for regular expressions \n",
    "import nltk  # for text manipulation \n",
    "import string \n",
    "import warnings \n",
    "import numpy as np \n",
    "import pandas as pd \n",
    "import seaborn as sns \n",
    "import matplotlib.pyplot as plt  \n",
    "\n",
    "from sklearn.feature_extraction._stop_words import ENGLISH_STOP_WORDS\n",
    "\n",
    "# nltk.download('punkt')\n",
    "\n",
    "pd.set_option(\"display.max_colwidth\", 200) \n",
    "warnings.filterwarnings(\"ignore\", category=DeprecationWarning) \n",
    "\n",
    "%matplotlib inline"
   ]
  },
  {
   "cell_type": "code",
   "execution_count": null,
   "metadata": {},
   "outputs": [],
   "source": [
    "train = pd.read_csv('/home/arthur/TCC/datasets/myPersonality_workshop-dataset/mypersonality_final.csv', sep=',', encoding='cp1252')"
   ]
  },
  {
   "cell_type": "code",
   "execution_count": null,
   "metadata": {},
   "outputs": [],
   "source": [
    "train_copy = train.copy(deep=True)\n",
    "train_copy = train_copy.filter(items=['#AUTHID','STATUS','cEXT','cNEU','cAGR','cCON','cOPN'])"
   ]
  },
  {
   "cell_type": "code",
   "execution_count": null,
   "metadata": {},
   "outputs": [],
   "source": [
    "train_copy['cEXT'].value_counts()"
   ]
  },
  {
   "cell_type": "code",
   "execution_count": null,
   "metadata": {},
   "outputs": [],
   "source": [
    "plt.hist(train.STATUS.str.len(), bins=20, label='train')\n",
    "plt.legend()\n",
    "plt.show()"
   ]
  },
  {
   "cell_type": "code",
   "execution_count": null,
   "metadata": {},
   "outputs": [],
   "source": [
    "# Pattern removal function creation\n",
    "def remove_pattern(input_txt, pattern):\n",
    "    r = re.findall(pattern, input_txt)\n",
    "    for i in r:\n",
    "        input_txt = re.sub(i, '', input_txt)\n",
    "    return input_txt"
   ]
  },
  {
   "cell_type": "code",
   "execution_count": null,
   "metadata": {},
   "outputs": [],
   "source": [
    "# New column(tydy_status) creation and punctuation,numbers and special characters removal\n",
    "train_copy['tidy_status'] = np.vectorize(train.STATUS.str.replace)(\"[^a-zA-Z#]\", \" \") \n",
    "train_copy.head(10)"
   ]
  },
  {
   "cell_type": "code",
   "execution_count": null,
   "metadata": {},
   "outputs": [],
   "source": [
    "# Transforming into lower case\n",
    "train_copy.tidy_status = train_copy.tidy_status.str.lower()\n",
    "train_copy.head()"
   ]
  },
  {
   "cell_type": "code",
   "execution_count": null,
   "metadata": {},
   "outputs": [],
   "source": [
    "# Tokenization \n",
    "tokenized_tweet = train_copy.tidy_status.apply(lambda x: x.split())\n",
    "tokenized_tweet.head(10)"
   ]
  },
  {
   "cell_type": "code",
   "execution_count": null,
   "metadata": {},
   "outputs": [],
   "source": [
    "# Stop words removal. List of stop words from sci-kit learn.\n",
    "stop_words = set(ENGLISH_STOP_WORDS)\n",
    "tokenized_tweet = tokenized_tweet.apply(lambda x: [word for word in x if word not in stop_words])\n",
    "train_copy.tidy_status = tokenized_tweet\n",
    "train_copy.head(10)"
   ]
  },
  {
   "cell_type": "code",
   "execution_count": null,
   "metadata": {},
   "outputs": [],
   "source": [
    "# Removing status with number of tokens < 3.\n",
    "train_copy = train_copy[train_copy['tidy_status'].str.len() > 2]\n",
    "train_copy.head(10)"
   ]
  },
  {
   "cell_type": "code",
   "execution_count": null,
   "metadata": {},
   "outputs": [],
   "source": [
    "cEXT_column_list = ['#AUTHID','STATUS','cEXT', 'tidy_status']\n",
    "cNEU_column_list = ['#AUTHID','STATUS','cNEU', 'tidy_status']\n",
    "cAGR_column_list = ['#AUTHID','STATUS','cAGR', 'tidy_status']\n",
    "cCON_column_list = ['#AUTHID','STATUS','cCON', 'tidy_status']\n",
    "cOPN_column_list = ['#AUTHID','STATUS','cOPN', 'tidy_status']\n",
    "\n",
    "\n",
    "train_cEXT = train_copy.filter(items=cEXT_column_list)\n",
    "train_cNEU = train_copy.filter(items=cNEU_column_list)\n",
    "train_cAGR = train_copy.filter(items=cAGR_column_list)\n",
    "train_cCON = train_copy.filter(items=cCON_column_list)\n",
    "train_cOPN = train_copy.filter(items=cOPN_column_list)"
   ]
  },
  {
   "cell_type": "code",
   "execution_count": null,
   "metadata": {},
   "outputs": [],
   "source": []
  }
 ]
}
{
 "metadata": {
  "language_info": {
   "codemirror_mode": {
    "name": "ipython",
    "version": 3
   },
   "file_extension": ".py",
   "mimetype": "text/x-python",
   "name": "python",
   "nbconvert_exporter": "python",
   "pygments_lexer": "ipython3",
   "version": "3.6.9-final"
  },
  "orig_nbformat": 2,
  "kernelspec": {
   "name": "python36964bit2816f1ca16c74fefba0c069c227312dd",
   "display_name": "Python 3.6.9 64-bit",
   "language": "python"
  }
 },
 "nbformat": 4,
 "nbformat_minor": 2,
 "cells": [
  {
   "cell_type": "code",
   "execution_count": null,
   "metadata": {},
   "outputs": [],
   "source": [
    "# from gensim.models.keyedvectors import KeyedVectors\n",
    "# from gensim.scripts.glove2word2vec import glove2word2vec\n",
    "from gensim.models.fasttext import FastText\n",
    "from gensim.models.fasttext import load_facebook_vectors\n",
    "# import numpy as np\n",
    "# import pandas as pd\n",
    "# import arff\n",
    "\n",
    "import sys\n",
    "sys.path.insert(1,'/home/arthur/TCC/codigo')\n",
    "sys.path.insert(1,\"/home/arthur/TCC/codigo/twint\")\n",
    "# sys.path.insert(1,\"twint/\")\n",
    "\n",
    "import fasttext"
   ]
  },
  {
   "cell_type": "code",
   "execution_count": null,
   "metadata": {},
   "outputs": [],
   "source": [
    "help(fasttext.FastText)"
   ]
  },
  {
   "cell_type": "code",
   "execution_count": null,
   "metadata": {},
   "outputs": [],
   "source": [
    "pt_model = load_facebook_vectors('../fastTextDatasets/cc.pt.300.bin')"
   ]
  },
  {
   "cell_type": "code",
   "execution_count": null,
   "metadata": {
    "tags": []
   },
   "outputs": [],
   "source": [
    "from pythonScripts.preprocessing import train_copy as train"
   ]
  },
  {
   "cell_type": "code",
   "execution_count": null,
   "metadata": {},
   "outputs": [],
   "source": [
    "train.head()"
   ]
  },
  {
   "cell_type": "code",
   "execution_count": null,
   "metadata": {},
   "outputs": [],
   "source": [
    "# Converting glove format into word2vec format\n",
    "# glove2word2vec('../GloveDatasets/English/glove.twitter.27B.200d.txt', '../GloveDatasets/English/glove.twitter.27B.200d.txt.word2vec')"
   ]
  },
  {
   "cell_type": "code",
   "execution_count": null,
   "metadata": {},
   "outputs": [],
   "source": [
    "# Loading word embedding model\n",
    "# model = KeyedVectors.load_word2vec_format('../GloveDatasets/English/glove.twitter.27B.200d.txt.word2vec', binary=False)"
   ]
  },
  {
   "cell_type": "code",
   "execution_count": null,
   "metadata": {},
   "outputs": [],
   "source": [
    "en_model = fasttext.load_model('cc.en.300.bin')"
   ]
  },
  {
   "cell_type": "code",
   "execution_count": null,
   "metadata": {},
   "outputs": [],
   "source": [
    "tokenized_status = train_copy.tidy_status\n",
    "tokenized_status[20:30]"
   ]
  },
  {
   "cell_type": "code",
   "execution_count": null,
   "metadata": {},
   "outputs": [],
   "source": [
    "def word_vector(tokens, size):\n",
    "    vec = np.zeros(size).reshape((1, size))\n",
    "    count = 0\n",
    "    for word in tokens:\n",
    "        try:\n",
    "            vec += model[word].reshape((1, size))\n",
    "            count += 1.\n",
    "        except KeyError:\n",
    "            continue\n",
    "    if count != 0:\n",
    "        vec /= count \n",
    "    return vec"
   ]
  },
  {
   "source": [
    "wordvec_arrays = np.zeros((len(tokenized_status), 200)) \n",
    "for i in range(len(tokenized_status)):\n",
    "    wordvec_arrays[i,:] = word_vector(tokenized_status[i], 200)\n",
    "wordvec_df = pd.DataFrame(wordvec_arrays)\n",
    "wordvec_df.shape"
   ],
   "cell_type": "code",
   "metadata": {},
   "execution_count": null,
   "outputs": []
  },
  {
   "cell_type": "code",
   "execution_count": null,
   "metadata": {},
   "outputs": [],
   "source": [
    "# EXT_wordvec_df = wordvec_df.join(train_copy.cEXT)\n",
    "# NEU_wordvec_df = wordvec_df.join(train_copy.cNEU)\n",
    "# AGR_wordvec_df = wordvec_df.join(train_copy.cAGR)\n",
    "# CON_wordvec_df = wordvec_df.join(train_copy.cCON)\n",
    "# OPN_wordvec_df = wordvec_df.join(train_copy.cOPN)\n",
    "\n",
    "# EXT_wordvec_df.shape, NEU_wordvec_df.shape, AGR_wordvec_df.shape, CON_wordvec_df.shape, OPN_wordvec_df.shape"
   ]
  },
  {
   "cell_type": "code",
   "execution_count": null,
   "metadata": {},
   "outputs": [],
   "source": [
    "# EXT_wordvec_df[EXT_wordvec_df.cEXT == 'y'].head(10)"
   ]
  },
  {
   "cell_type": "code",
   "execution_count": null,
   "metadata": {},
   "outputs": [],
   "source": [
    "# label = { 'y': 1 , 'n': 0}\n",
    "# # EXT_wordvec_df.cEXT = [label[item] for item in EXT_wordvec_df.cEXT]\n",
    "# EXT_wordvec_df[20:30]\n"
   ]
  },
  {
   "cell_type": "code",
   "execution_count": null,
   "metadata": {},
   "outputs": [],
   "source": [
    "# # Exporting to arff (weka file extension)\n",
    "# arff.dump('ext_we_dataset_GP.arff'\n",
    "#       , EXT_wordvec_df.values\n",
    "#       , relation='extroversionGP'\n",
    "#       , names=EXT_wordvec_df.columns)"
   ]
  },
  {
   "cell_type": "code",
   "execution_count": null,
   "metadata": {},
   "outputs": [],
   "source": []
  }
 ]
}
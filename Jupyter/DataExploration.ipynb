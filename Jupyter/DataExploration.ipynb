{
 "metadata": {
  "language_info": {
   "codemirror_mode": {
    "name": "ipython",
    "version": 3
   },
   "file_extension": ".py",
   "mimetype": "text/x-python",
   "name": "python",
   "nbconvert_exporter": "python",
   "pygments_lexer": "ipython3",
   "version": "3.6.9-final"
  },
  "orig_nbformat": 2,
  "kernelspec": {
   "name": "python36964bit2816f1ca16c74fefba0c069c227312dd",
   "display_name": "Python 3.6.9 64-bit",
   "language": "python"
  }
 },
 "nbformat": 4,
 "nbformat_minor": 2,
 "cells": [
  {
   "cell_type": "code",
   "execution_count": 2,
   "metadata": {},
   "outputs": [],
   "source": [
    "import pandas as pd "
   ]
  },
  {
   "cell_type": "code",
   "execution_count": 3,
   "metadata": {},
   "outputs": [],
   "source": [
    "train = pd.read_csv('/home/arthur/TCC/datasets/myPersonality_workshop-dataset/mypersonality_final.csv', sep=',', encoding='cp1252')"
   ]
  },
  {
   "cell_type": "code",
   "execution_count": 4,
   "metadata": {},
   "outputs": [
    {
     "output_type": "execute_result",
     "data": {
      "text/plain": [
       "               count           mean            std    min       25%       50%  \\\n",
       "sEXT          9917.0       3.354760       0.857578   1.33      2.71      3.40   \n",
       "sNEU          9917.0       2.609453       0.760248   1.25      2.00      2.60   \n",
       "sAGR          9917.0       3.616643       0.682485   1.65      3.14      3.65   \n",
       "sCON          9917.0       3.474201       0.737215   1.45      3.00      3.40   \n",
       "sOPN          9917.0       4.130386       0.585672   2.25      3.75      4.25   \n",
       "NETWORKSIZE   9917.0     429.377120     428.760382  24.00    196.00    317.00   \n",
       "BETWEENNESS   9917.0  135425.315359  199433.803497  93.25  16902.20  47166.90   \n",
       "NBETWEENNESS  9917.0      94.665170       5.506696   0.04     93.77     96.44   \n",
       "DENSITY       9917.0       3.154012     311.073343   0.00      0.01      0.02   \n",
       "BROKERAGE     9917.0  137642.476201  201392.066555   0.49  17982.00  48683.00   \n",
       "NBROKERAGE    9917.0       0.489920       0.011908   0.18      0.49      0.49   \n",
       "TRANSITIVITY  9916.0       0.128821       0.106063   0.00      0.06      0.09   \n",
       "\n",
       "                    75%         max  \n",
       "sEXT               4.00        5.00  \n",
       "sNEU               3.05        4.75  \n",
       "sAGR               4.15        5.00  \n",
       "sCON               4.00        5.00  \n",
       "sOPN               4.55        5.00  \n",
       "NETWORKSIZE      633.00    29724.90  \n",
       "BETWEENNESS   196606.00  1251780.00  \n",
       "NBETWEENNESS      97.88       99.82  \n",
       "DENSITY            0.03    30978.00  \n",
       "BROKERAGE     198186.00  1263790.00  \n",
       "NBROKERAGE         0.50        0.50  \n",
       "TRANSITIVITY       0.17        0.63  "
      ],
      "text/html": "<div>\n<style scoped>\n    .dataframe tbody tr th:only-of-type {\n        vertical-align: middle;\n    }\n\n    .dataframe tbody tr th {\n        vertical-align: top;\n    }\n\n    .dataframe thead th {\n        text-align: right;\n    }\n</style>\n<table border=\"1\" class=\"dataframe\">\n  <thead>\n    <tr style=\"text-align: right;\">\n      <th></th>\n      <th>count</th>\n      <th>mean</th>\n      <th>std</th>\n      <th>min</th>\n      <th>25%</th>\n      <th>50%</th>\n      <th>75%</th>\n      <th>max</th>\n    </tr>\n  </thead>\n  <tbody>\n    <tr>\n      <th>sEXT</th>\n      <td>9917.0</td>\n      <td>3.354760</td>\n      <td>0.857578</td>\n      <td>1.33</td>\n      <td>2.71</td>\n      <td>3.40</td>\n      <td>4.00</td>\n      <td>5.00</td>\n    </tr>\n    <tr>\n      <th>sNEU</th>\n      <td>9917.0</td>\n      <td>2.609453</td>\n      <td>0.760248</td>\n      <td>1.25</td>\n      <td>2.00</td>\n      <td>2.60</td>\n      <td>3.05</td>\n      <td>4.75</td>\n    </tr>\n    <tr>\n      <th>sAGR</th>\n      <td>9917.0</td>\n      <td>3.616643</td>\n      <td>0.682485</td>\n      <td>1.65</td>\n      <td>3.14</td>\n      <td>3.65</td>\n      <td>4.15</td>\n      <td>5.00</td>\n    </tr>\n    <tr>\n      <th>sCON</th>\n      <td>9917.0</td>\n      <td>3.474201</td>\n      <td>0.737215</td>\n      <td>1.45</td>\n      <td>3.00</td>\n      <td>3.40</td>\n      <td>4.00</td>\n      <td>5.00</td>\n    </tr>\n    <tr>\n      <th>sOPN</th>\n      <td>9917.0</td>\n      <td>4.130386</td>\n      <td>0.585672</td>\n      <td>2.25</td>\n      <td>3.75</td>\n      <td>4.25</td>\n      <td>4.55</td>\n      <td>5.00</td>\n    </tr>\n    <tr>\n      <th>NETWORKSIZE</th>\n      <td>9917.0</td>\n      <td>429.377120</td>\n      <td>428.760382</td>\n      <td>24.00</td>\n      <td>196.00</td>\n      <td>317.00</td>\n      <td>633.00</td>\n      <td>29724.90</td>\n    </tr>\n    <tr>\n      <th>BETWEENNESS</th>\n      <td>9917.0</td>\n      <td>135425.315359</td>\n      <td>199433.803497</td>\n      <td>93.25</td>\n      <td>16902.20</td>\n      <td>47166.90</td>\n      <td>196606.00</td>\n      <td>1251780.00</td>\n    </tr>\n    <tr>\n      <th>NBETWEENNESS</th>\n      <td>9917.0</td>\n      <td>94.665170</td>\n      <td>5.506696</td>\n      <td>0.04</td>\n      <td>93.77</td>\n      <td>96.44</td>\n      <td>97.88</td>\n      <td>99.82</td>\n    </tr>\n    <tr>\n      <th>DENSITY</th>\n      <td>9917.0</td>\n      <td>3.154012</td>\n      <td>311.073343</td>\n      <td>0.00</td>\n      <td>0.01</td>\n      <td>0.02</td>\n      <td>0.03</td>\n      <td>30978.00</td>\n    </tr>\n    <tr>\n      <th>BROKERAGE</th>\n      <td>9917.0</td>\n      <td>137642.476201</td>\n      <td>201392.066555</td>\n      <td>0.49</td>\n      <td>17982.00</td>\n      <td>48683.00</td>\n      <td>198186.00</td>\n      <td>1263790.00</td>\n    </tr>\n    <tr>\n      <th>NBROKERAGE</th>\n      <td>9917.0</td>\n      <td>0.489920</td>\n      <td>0.011908</td>\n      <td>0.18</td>\n      <td>0.49</td>\n      <td>0.49</td>\n      <td>0.50</td>\n      <td>0.50</td>\n    </tr>\n    <tr>\n      <th>TRANSITIVITY</th>\n      <td>9916.0</td>\n      <td>0.128821</td>\n      <td>0.106063</td>\n      <td>0.00</td>\n      <td>0.06</td>\n      <td>0.09</td>\n      <td>0.17</td>\n      <td>0.63</td>\n    </tr>\n  </tbody>\n</table>\n</div>"
     },
     "metadata": {},
     "execution_count": 4
    }
   ],
   "source": [
    "train.describe().transpose()"
   ]
  },
  {
   "cell_type": "code",
   "execution_count": null,
   "metadata": {},
   "outputs": [],
   "source": []
  }
 ]
}
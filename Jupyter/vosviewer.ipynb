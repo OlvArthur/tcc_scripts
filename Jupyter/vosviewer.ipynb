{
 "metadata": {
  "language_info": {
   "codemirror_mode": {
    "name": "ipython",
    "version": 3
   },
   "file_extension": ".py",
   "mimetype": "text/x-python",
   "name": "python",
   "nbconvert_exporter": "python",
   "pygments_lexer": "ipython3",
   "version": "3.6.9-final"
  },
  "orig_nbformat": 2,
  "kernelspec": {
   "name": "python36964bit2816f1ca16c74fefba0c069c227312dd",
   "display_name": "Python 3.6.9 64-bit",
   "language": "python"
  }
 },
 "nbformat": 4,
 "nbformat_minor": 2,
 "cells": [
  {
   "cell_type": "code",
   "execution_count": 1,
   "metadata": {},
   "outputs": [],
   "source": [
    "import pandas as pd"
   ]
  },
  {
   "cell_type": "code",
   "execution_count": 2,
   "metadata": {},
   "outputs": [],
   "source": [
    "username = 'anamzss'\n",
    "user_df = pd.read_csv(\"../../datasets/twitter-questionnaire/\"+username+\".csv\")"
   ]
  },
  {
   "cell_type": "code",
   "execution_count": 9,
   "metadata": {},
   "outputs": [],
   "source": [
    "train = pd.read_csv('/home/arthur/TCC/datasets/myPersonality_workshop-dataset/mypersonality_final.csv', sep=',', encoding='cp1252')"
   ]
  },
  {
   "cell_type": "code",
   "execution_count": 31,
   "metadata": {},
   "outputs": [],
   "source": [
    "train[train.cOPN == 'y'].STATUS.to_csv('../../datasets/VOSviewer-documents/train_cOPN_y.csv', index=False, header=False)"
   ]
  },
  {
   "cell_type": "code",
   "execution_count": 6,
   "metadata": {},
   "outputs": [],
   "source": [
    "user_df.tweet.head()\n",
    "tweet_df = pd.DataFrame(user_df.tweet)"
   ]
  },
  {
   "cell_type": "code",
   "execution_count": 8,
   "metadata": {},
   "outputs": [],
   "source": [
    "tweet_df.to_csv('tweet_test.csv')"
   ]
  },
  {
   "cell_type": "code",
   "execution_count": 35,
   "metadata": {},
   "outputs": [],
   "source": [
    "test = pd.read_csv('../../datasets/VOSviewer-documents/train_cOPN_y (cópia).csv', header=None)"
   ]
  },
  {
   "cell_type": "code",
   "execution_count": 36,
   "metadata": {},
   "outputs": [
    {
     "output_type": "execute_result",
     "data": {
      "text/plain": [
       "                                                   0\n",
       "0                        likes the sound of thunder.\n",
       "1  is so sleepy it's not even funny that's she ca...\n",
       "2  is sore and wants the knot of muscles at the b...\n",
       "3         likes how the day sounds in this new song.\n",
       "4                                        is home. <3"
      ],
      "text/html": "<div>\n<style scoped>\n    .dataframe tbody tr th:only-of-type {\n        vertical-align: middle;\n    }\n\n    .dataframe tbody tr th {\n        vertical-align: top;\n    }\n\n    .dataframe thead th {\n        text-align: right;\n    }\n</style>\n<table border=\"1\" class=\"dataframe\">\n  <thead>\n    <tr style=\"text-align: right;\">\n      <th></th>\n      <th>0</th>\n    </tr>\n  </thead>\n  <tbody>\n    <tr>\n      <th>0</th>\n      <td>likes the sound of thunder.</td>\n    </tr>\n    <tr>\n      <th>1</th>\n      <td>is so sleepy it's not even funny that's she ca...</td>\n    </tr>\n    <tr>\n      <th>2</th>\n      <td>is sore and wants the knot of muscles at the b...</td>\n    </tr>\n    <tr>\n      <th>3</th>\n      <td>likes how the day sounds in this new song.</td>\n    </tr>\n    <tr>\n      <th>4</th>\n      <td>is home. &lt;3</td>\n    </tr>\n  </tbody>\n</table>\n</div>"
     },
     "metadata": {},
     "execution_count": 36
    }
   ],
   "source": [
    "test.head()"
   ]
  },
  {
   "cell_type": "code",
   "execution_count": 41,
   "metadata": {},
   "outputs": [],
   "source": [
    "def remove_punctuation(input_txt):\n",
    "    input_txt = input_txt.replace(' ',',')\n",
    "    return input_txt"
   ]
  },
  {
   "cell_type": "code",
   "execution_count": 43,
   "metadata": {},
   "outputs": [],
   "source": [
    "test = test.apply(lambda x: remove_punctuation(x))"
   ]
  },
  {
   "cell_type": "code",
   "execution_count": 44,
   "metadata": {},
   "outputs": [
    {
     "output_type": "execute_result",
     "data": {
      "text/plain": [
       "                                                   0\n",
       "0                        likes the sound of thunder.\n",
       "1  is so sleepy it's not even funny that's she ca...\n",
       "2  is sore and wants the knot of muscles at the b...\n",
       "3         likes how the day sounds in this new song.\n",
       "4                                        is home. <3"
      ],
      "text/html": "<div>\n<style scoped>\n    .dataframe tbody tr th:only-of-type {\n        vertical-align: middle;\n    }\n\n    .dataframe tbody tr th {\n        vertical-align: top;\n    }\n\n    .dataframe thead th {\n        text-align: right;\n    }\n</style>\n<table border=\"1\" class=\"dataframe\">\n  <thead>\n    <tr style=\"text-align: right;\">\n      <th></th>\n      <th>0</th>\n    </tr>\n  </thead>\n  <tbody>\n    <tr>\n      <th>0</th>\n      <td>likes the sound of thunder.</td>\n    </tr>\n    <tr>\n      <th>1</th>\n      <td>is so sleepy it's not even funny that's she ca...</td>\n    </tr>\n    <tr>\n      <th>2</th>\n      <td>is sore and wants the knot of muscles at the b...</td>\n    </tr>\n    <tr>\n      <th>3</th>\n      <td>likes how the day sounds in this new song.</td>\n    </tr>\n    <tr>\n      <th>4</th>\n      <td>is home. &lt;3</td>\n    </tr>\n  </tbody>\n</table>\n</div>"
     },
     "metadata": {},
     "execution_count": 44
    }
   ],
   "source": [
    "test.head()"
   ]
  },
  {
   "cell_type": "code",
   "execution_count": null,
   "metadata": {},
   "outputs": [],
   "source": []
  }
 ]
}